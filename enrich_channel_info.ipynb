{
 "cells": [
  {
   "cell_type": "code",
   "execution_count": 4,
   "id": "53550b11",
   "metadata": {},
   "outputs": [
    {
     "name": "stdout",
     "output_type": "stream",
     "text": [
      "Found 8831 unique video IDs.\n"
     ]
    },
    {
     "name": "stderr",
     "output_type": "stream",
     "text": [
      "Fetching channel info:   4%|▍         | 7/177 [00:03<00:43,  3.87it/s]"
     ]
    },
    {
     "name": "stdout",
     "output_type": "stream",
     "text": [
      "[WARN] Missing video IDs from API: {'1XBMMwEpCeg'}\n"
     ]
    },
    {
     "name": "stderr",
     "output_type": "stream",
     "text": [
      "Fetching channel info:   6%|▌         | 11/177 [00:03<00:31,  5.35it/s]"
     ]
    },
    {
     "name": "stdout",
     "output_type": "stream",
     "text": [
      "[WARN] Missing video IDs from API: {'UmZYLCoPahE'}\n",
      "[WARN] Missing video IDs from API: {'D7QxvWShyuY'}\n"
     ]
    },
    {
     "name": "stderr",
     "output_type": "stream",
     "text": [
      "Fetching channel info:   7%|▋         | 12/177 [00:04<00:32,  5.04it/s]"
     ]
    },
    {
     "name": "stdout",
     "output_type": "stream",
     "text": [
      "[WARN] Missing video IDs from API: {'qJR6-BsldSo'}\n"
     ]
    },
    {
     "name": "stderr",
     "output_type": "stream",
     "text": [
      "Fetching channel info:   9%|▉         | 16/177 [00:04<00:33,  4.84it/s]"
     ]
    },
    {
     "name": "stdout",
     "output_type": "stream",
     "text": [
      "[WARN] Missing video IDs from API: {'RiLyU_oXSUE'}\n"
     ]
    },
    {
     "name": "stderr",
     "output_type": "stream",
     "text": [
      "Fetching channel info:  14%|█▎        | 24/177 [00:06<00:30,  5.06it/s]"
     ]
    },
    {
     "name": "stdout",
     "output_type": "stream",
     "text": [
      "[WARN] Missing video IDs from API: {'KJqdNp9oMFQ'}\n"
     ]
    },
    {
     "name": "stderr",
     "output_type": "stream",
     "text": [
      "Fetching channel info:  14%|█▍        | 25/177 [00:06<00:30,  4.91it/s]"
     ]
    },
    {
     "name": "stdout",
     "output_type": "stream",
     "text": [
      "[WARN] Missing video IDs from API: {'iSvwbSI41XU'}\n"
     ]
    },
    {
     "name": "stderr",
     "output_type": "stream",
     "text": [
      "Fetching channel info:  15%|█▌        | 27/177 [00:07<00:29,  5.09it/s]"
     ]
    },
    {
     "name": "stdout",
     "output_type": "stream",
     "text": [
      "[WARN] Missing video IDs from API: {'0UTowVjDwgI'}\n"
     ]
    },
    {
     "name": "stderr",
     "output_type": "stream",
     "text": [
      "Fetching channel info:  20%|██        | 36/177 [00:08<00:22,  6.18it/s]"
     ]
    },
    {
     "name": "stdout",
     "output_type": "stream",
     "text": [
      "[WARN] Missing video IDs from API: {'XH8XSKQM7pI', 'P4xVWOF6FEE'}\n"
     ]
    },
    {
     "name": "stderr",
     "output_type": "stream",
     "text": [
      "Fetching channel info:  24%|██▎       | 42/177 [00:09<00:27,  4.90it/s]"
     ]
    },
    {
     "name": "stdout",
     "output_type": "stream",
     "text": [
      "[WARN] Missing video IDs from API: {'YdP1iNnxkQA'}\n"
     ]
    },
    {
     "name": "stderr",
     "output_type": "stream",
     "text": [
      "Fetching channel info:  25%|██▍       | 44/177 [00:10<00:26,  5.02it/s]"
     ]
    },
    {
     "name": "stdout",
     "output_type": "stream",
     "text": [
      "[WARN] Missing video IDs from API: {'LajIKPikBVs'}\n"
     ]
    },
    {
     "name": "stderr",
     "output_type": "stream",
     "text": [
      "Fetching channel info:  29%|██▉       | 51/177 [00:11<00:22,  5.49it/s]"
     ]
    },
    {
     "name": "stdout",
     "output_type": "stream",
     "text": [
      "[WARN] Missing video IDs from API: {'kQ_s4SgeYoU'}\n"
     ]
    },
    {
     "name": "stderr",
     "output_type": "stream",
     "text": [
      "Fetching channel info:  30%|██▉       | 53/177 [00:11<00:19,  6.30it/s]"
     ]
    },
    {
     "name": "stdout",
     "output_type": "stream",
     "text": [
      "[WARN] Missing video IDs from API: {'K9No0wRfS7E'}\n"
     ]
    },
    {
     "name": "stderr",
     "output_type": "stream",
     "text": [
      "Fetching channel info:  34%|███▍      | 60/177 [00:13<00:22,  5.29it/s]"
     ]
    },
    {
     "name": "stdout",
     "output_type": "stream",
     "text": [
      "[WARN] Missing video IDs from API: {'0gquxXZaTDw', 'BqLoczjNStQ'}\n"
     ]
    },
    {
     "name": "stderr",
     "output_type": "stream",
     "text": [
      "Fetching channel info:  37%|███▋      | 65/177 [00:14<00:20,  5.43it/s]"
     ]
    },
    {
     "name": "stdout",
     "output_type": "stream",
     "text": [
      "[WARN] Missing video IDs from API: {'osbpBeeXqD4'}\n"
     ]
    },
    {
     "name": "stderr",
     "output_type": "stream",
     "text": [
      "Fetching channel info:  46%|████▌     | 81/177 [00:17<00:19,  4.88it/s]"
     ]
    },
    {
     "name": "stdout",
     "output_type": "stream",
     "text": [
      "[WARN] Missing video IDs from API: {'Ba2_3bnnCyY'}\n"
     ]
    },
    {
     "name": "stderr",
     "output_type": "stream",
     "text": [
      "Fetching channel info:  47%|████▋     | 84/177 [00:17<00:18,  5.09it/s]"
     ]
    },
    {
     "name": "stdout",
     "output_type": "stream",
     "text": [
      "[WARN] Missing video IDs from API: {'SqadGUN6qa4'}\n"
     ]
    },
    {
     "name": "stderr",
     "output_type": "stream",
     "text": [
      "Fetching channel info:  49%|████▊     | 86/177 [00:18<00:17,  5.25it/s]"
     ]
    },
    {
     "name": "stdout",
     "output_type": "stream",
     "text": [
      "[WARN] Missing video IDs from API: {'VQ7YLPVDnbE'}\n"
     ]
    },
    {
     "name": "stderr",
     "output_type": "stream",
     "text": [
      "Fetching channel info:  53%|█████▎    | 93/177 [00:19<00:15,  5.43it/s]"
     ]
    },
    {
     "name": "stdout",
     "output_type": "stream",
     "text": [
      "[WARN] Missing video IDs from API: {'R0v-v3rd3VY'}\n"
     ]
    },
    {
     "name": "stderr",
     "output_type": "stream",
     "text": [
      "Fetching channel info:  55%|█████▍    | 97/177 [00:20<00:12,  6.51it/s]"
     ]
    },
    {
     "name": "stdout",
     "output_type": "stream",
     "text": [
      "[WARN] Missing video IDs from API: {'0eQhmLde4LI'}\n",
      "[WARN] Missing video IDs from API: {'QCcacnK51cg'}\n"
     ]
    },
    {
     "name": "stderr",
     "output_type": "stream",
     "text": [
      "Fetching channel info:  59%|█████▉    | 104/177 [00:22<00:26,  2.79it/s]"
     ]
    },
    {
     "name": "stdout",
     "output_type": "stream",
     "text": [
      "[WARN] Missing video IDs from API: {'SmNWm4v1yWA'}\n"
     ]
    },
    {
     "name": "stderr",
     "output_type": "stream",
     "text": [
      "Fetching channel info:  63%|██████▎   | 112/177 [00:24<00:14,  4.50it/s]"
     ]
    },
    {
     "name": "stdout",
     "output_type": "stream",
     "text": [
      "[WARN] Missing video IDs from API: {'45PFcl61zx0'}\n"
     ]
    },
    {
     "name": "stderr",
     "output_type": "stream",
     "text": [
      "Fetching channel info:  69%|██████▉   | 123/177 [00:26<00:09,  5.55it/s]"
     ]
    },
    {
     "name": "stdout",
     "output_type": "stream",
     "text": [
      "[WARN] Missing video IDs from API: {'bRyFVGc-hPg'}\n"
     ]
    },
    {
     "name": "stderr",
     "output_type": "stream",
     "text": [
      "Fetching channel info:  71%|███████   | 125/177 [00:27<00:08,  6.19it/s]"
     ]
    },
    {
     "name": "stdout",
     "output_type": "stream",
     "text": [
      "[WARN] Missing video IDs from API: {'w1OQB0TaARw'}\n"
     ]
    },
    {
     "name": "stderr",
     "output_type": "stream",
     "text": [
      "Fetching channel info:  73%|███████▎  | 129/177 [00:27<00:09,  4.96it/s]"
     ]
    },
    {
     "name": "stdout",
     "output_type": "stream",
     "text": [
      "[WARN] Missing video IDs from API: {'Se5nggefysA'}\n"
     ]
    },
    {
     "name": "stderr",
     "output_type": "stream",
     "text": [
      "Fetching channel info:  74%|███████▍  | 131/177 [00:28<00:09,  4.94it/s]"
     ]
    },
    {
     "name": "stdout",
     "output_type": "stream",
     "text": [
      "[WARN] Missing video IDs from API: {'dRQowMTZvHA'}\n",
      "[WARN] Missing video IDs from API: {'C7WoHk15jg4'}\n"
     ]
    },
    {
     "name": "stderr",
     "output_type": "stream",
     "text": [
      "Fetching channel info:  80%|████████  | 142/177 [00:30<00:06,  5.59it/s]"
     ]
    },
    {
     "name": "stdout",
     "output_type": "stream",
     "text": [
      "[WARN] Missing video IDs from API: {'ZSn_TJedRbg'}\n"
     ]
    },
    {
     "name": "stderr",
     "output_type": "stream",
     "text": [
      "Fetching channel info:  81%|████████▏ | 144/177 [00:30<00:05,  5.90it/s]"
     ]
    },
    {
     "name": "stdout",
     "output_type": "stream",
     "text": [
      "[WARN] Missing video IDs from API: {'W4yKzGxtseE'}\n"
     ]
    },
    {
     "name": "stderr",
     "output_type": "stream",
     "text": [
      "Fetching channel info:  83%|████████▎ | 147/177 [00:31<00:04,  6.08it/s]"
     ]
    },
    {
     "name": "stdout",
     "output_type": "stream",
     "text": [
      "[WARN] Missing video IDs from API: {'X6Qd3CXVBk4'}\n"
     ]
    },
    {
     "name": "stderr",
     "output_type": "stream",
     "text": [
      "Fetching channel info:  84%|████████▎ | 148/177 [00:31<00:05,  4.88it/s]"
     ]
    },
    {
     "name": "stdout",
     "output_type": "stream",
     "text": [
      "[WARN] Missing video IDs from API: {'VJ5fUaazxQk'}\n"
     ]
    },
    {
     "name": "stderr",
     "output_type": "stream",
     "text": [
      "Fetching channel info:  85%|████████▍ | 150/177 [00:31<00:05,  4.93it/s]"
     ]
    },
    {
     "name": "stdout",
     "output_type": "stream",
     "text": [
      "[WARN] Missing video IDs from API: {'4oB2uiRKC_4'}\n"
     ]
    },
    {
     "name": "stderr",
     "output_type": "stream",
     "text": [
      "Fetching channel info:  86%|████████▋ | 153/177 [00:32<00:04,  5.44it/s]"
     ]
    },
    {
     "name": "stdout",
     "output_type": "stream",
     "text": [
      "[WARN] Missing video IDs from API: {'Pmprf9uXJa4'}\n"
     ]
    },
    {
     "name": "stderr",
     "output_type": "stream",
     "text": [
      "Fetching channel info:  90%|█████████ | 160/177 [00:33<00:03,  5.01it/s]"
     ]
    },
    {
     "name": "stdout",
     "output_type": "stream",
     "text": [
      "[WARN] Missing video IDs from API: {'9qdqkpNO_I8'}\n"
     ]
    },
    {
     "name": "stderr",
     "output_type": "stream",
     "text": [
      "Fetching channel info:  92%|█████████▏| 162/177 [00:34<00:02,  5.18it/s]"
     ]
    },
    {
     "name": "stdout",
     "output_type": "stream",
     "text": [
      "[WARN] Missing video IDs from API: {'ybtHW-5hIPw'}\n",
      "[WARN] Missing video IDs from API: {'E7IQmjWuJnE'}\n"
     ]
    },
    {
     "name": "stderr",
     "output_type": "stream",
     "text": [
      "Fetching channel info:  93%|█████████▎| 165/177 [00:34<00:02,  5.49it/s]"
     ]
    },
    {
     "name": "stdout",
     "output_type": "stream",
     "text": [
      "[WARN] Missing video IDs from API: {'WPQIexo41lo'}\n",
      "[WARN] Missing video IDs from API: {'qJHpux2dolU'}\n"
     ]
    },
    {
     "name": "stderr",
     "output_type": "stream",
     "text": [
      "Fetching channel info:  99%|█████████▉| 175/177 [00:36<00:00,  4.92it/s]"
     ]
    },
    {
     "name": "stdout",
     "output_type": "stream",
     "text": [
      "[WARN] Missing video IDs from API: {'Ww7Y_uNTFPQ'}\n"
     ]
    },
    {
     "name": "stderr",
     "output_type": "stream",
     "text": [
      "Fetching channel info: 100%|██████████| 177/177 [00:37<00:00,  4.77it/s]\n"
     ]
    },
    {
     "name": "stdout",
     "output_type": "stream",
     "text": [
      "Successfully enriched 8831 videos.\n",
      "Uploaded enriched data to BigQuery table name `channel_info_enriched`.\n"
     ]
    }
   ],
   "source": [
    "import os\n",
    "import pandas as pd\n",
    "from tqdm import tqdm\n",
    "from googleapiclient.discovery import build\n",
    "from google.cloud import bigquery\n",
    "\n",
    "os.environ[\"GOOGLE_APPLICATION_CREDENTIALS\"] = \"C:/Users/tanju/Desktop/upheld-momentum-463013-v7-910c47d3ace5.json\"\n",
    "\n",
    "PROJECT_ID = \"upheld-momentum-463013-v7\"\n",
    "DATASET_ID = \"dbt_tdereli\"\n",
    "TARGET_DATASET = \"dbt_tdereli\"\n",
    "SOURCE_TABLE = \"stg_youtube_trending\"\n",
    "DEST_TABLE = \"channel_info_enriched\" \n",
    "\n",
    "\n",
    "YOUTUBE_API_KEY = os.getenv(\"YOUTUBE_API_KEY\")\n",
    "youtube = build(\"youtube\", \"v3\", developerKey=YOUTUBE_API_KEY)\n",
    "\n",
    "client = bigquery.Client(project=PROJECT_ID)\n",
    "\n",
    "\n",
    "query = f\"\"\"\n",
    "    SELECT DISTINCT video_id\n",
    "    FROM `{PROJECT_ID}.{DATASET_ID}.{SOURCE_TABLE}`\n",
    "\"\"\"\n",
    "video_ids = [row[\"video_id\"] for row in client.query(query)]\n",
    "print(f\"Found {len(video_ids)} unique video IDs.\")\n",
    "\n",
    "\n",
    "def fetch_channel_info(batch_ids):\n",
    "    try:\n",
    "        response = youtube.videos().list(\n",
    "            part=\"snippet\",\n",
    "            id=\",\".join(batch_ids)\n",
    "        ).execute()\n",
    "\n",
    "        returned_items = response.get(\"items\", [])\n",
    "        returned_ids = {item[\"id\"] for item in returned_items}\n",
    "        missing_ids = set(batch_ids) - returned_ids\n",
    "\n",
    "        if missing_ids:\n",
    "            print(f\"[WARN] Missing video IDs from API: {missing_ids}\")\n",
    "\n",
    "        # Build a dict for quick lookup of returned videos\n",
    "        item_lookup = {item[\"id\"]: item for item in returned_items}\n",
    "        \n",
    "        result = []\n",
    "        for vid in batch_ids:\n",
    "            if vid in item_lookup:\n",
    "                item = item_lookup[vid]\n",
    "                result.append({\n",
    "                    \"video_id\": vid,\n",
    "                    \"channel_id\": item[\"snippet\"][\"channelId\"],\n",
    "                    \"channel_title\": item[\"snippet\"][\"channelTitle\"],\n",
    "                })\n",
    "            else:\n",
    "                # Still add the row with Nones so it's aligned\n",
    "                result.append({\n",
    "                    \"video_id\": vid,\n",
    "                    \"channel_id\": None,\n",
    "                    \"channel_title\": None,\n",
    "                })\n",
    "\n",
    "        return result\n",
    "\n",
    "    except Exception as e:\n",
    "        print(f\"[ERROR] Failed fetching batch: {e}\")\n",
    "        return []\n",
    "\n",
    "\n",
    "\n",
    "\n",
    "channel_info = []\n",
    "BATCH_SIZE = 50\n",
    "for i in tqdm(range(0, len(video_ids), BATCH_SIZE), desc=\"Fetching channel info\"):\n",
    "    batch = video_ids[i:i + BATCH_SIZE]\n",
    "    channel_info.extend(fetch_channel_info(batch))\n",
    "\n",
    "print(f\"Successfully enriched {len(channel_info)} videos.\")\n",
    "\n",
    "\n",
    "df = pd.DataFrame(channel_info)\n",
    "\n",
    "\n",
    "\n",
    "\n",
    "job_config = bigquery.LoadJobConfig(\n",
    "    write_disposition=\"WRITE_TRUNCATE\",\n",
    "    schema=[\n",
    "        bigquery.SchemaField(\"video_id\", \"STRING\"),\n",
    "        bigquery.SchemaField(\"channel_id\", \"STRING\"),\n",
    "        bigquery.SchemaField(\"channel_title\", \"STRING\"),\n",
    "    ]\n",
    ")\n",
    "\n",
    "table_ref = f\"{PROJECT_ID}.{TARGET_DATASET}.{DEST_TABLE}\"\n",
    "load_job = client.load_table_from_dataframe(df, table_ref, job_config=job_config)\n",
    "load_job.result()\n",
    "\n",
    "print(f\"Uploaded enriched data to BigQuery table name `{DEST_TABLE}`.\")"
   ]
  },
  {
   "cell_type": "code",
   "execution_count": null,
   "id": "0c5fa181",
   "metadata": {},
   "outputs": [],
   "source": []
  }
 ],
 "metadata": {
  "kernelspec": {
   "display_name": "base",
   "language": "python",
   "name": "python3"
  },
  "language_info": {
   "codemirror_mode": {
    "name": "ipython",
    "version": 3
   },
   "file_extension": ".py",
   "mimetype": "text/x-python",
   "name": "python",
   "nbconvert_exporter": "python",
   "pygments_lexer": "ipython3",
   "version": "3.12.3"
  }
 },
 "nbformat": 4,
 "nbformat_minor": 5
}

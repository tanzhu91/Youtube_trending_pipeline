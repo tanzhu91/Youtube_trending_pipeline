{
 "cells": [
  {
   "cell_type": "code",
   "execution_count": null,
   "id": "53550b11",
   "metadata": {},
   "outputs": [
    {
     "name": "stdout",
     "output_type": "stream",
     "text": [
      "Found 6579 unique video IDs.\n"
     ]
    },
    {
     "name": "stderr",
     "output_type": "stream",
     "text": [
      "Fetching channel info: 100%|██████████| 132/132 [00:19<00:00,  6.84it/s]\n",
      "c:\\Users\\tanju\\miniconda3\\Lib\\site-packages\\google\\cloud\\bigquery\\_pandas_helpers.py:489: FutureWarning: Loading pandas DataFrame into BigQuery will require pandas-gbq package version 0.26.1 or greater in the future. Tried to import pandas-gbq and got: No module named 'pandas_gbq'\n",
      "  warnings.warn(\n"
     ]
    },
    {
     "name": "stdout",
     "output_type": "stream",
     "text": [
      "Successfully enriched 6549 videos.\n",
      "Uploaded enriched data to BigQuery table `channel_info_enriched`.\n"
     ]
    }
   ],
   "source": [
    "import os\n",
    "import pandas as pd\n",
    "from tqdm import tqdm\n",
    "from googleapiclient.discovery import build\n",
    "from google.cloud import bigquery\n",
    "\n",
    "os.environ[\"GOOGLE_APPLICATION_CREDENTIALS\"] = \"C:/Users/tanju/Desktop/upheld-momentum-463013-v7-60b336c3c385.json\"\n",
    "\n",
    "PROJECT_ID = \"upheld-momentum-463013-v7\"\n",
    "DATASET_ID = \"dbt_tdereli\"\n",
    "TARGET_DATASET = \"dbt_tdereli\"\n",
    "SOURCE_TABLE = \"stg_youtube_trending\"\n",
    "DEST_TABLE = \"channel_info_enriched\" \n",
    "\n",
    "\n",
    "YOUTUBE_API_KEY = os.getenv(\"YOUTUBE_API_KEY\")\n",
    "youtube = build(\"youtube\", \"v3\", developerKey=YOUTUBE_API_KEY)\n",
    "\n",
    "client = bigquery.Client(project=PROJECT_ID)\n",
    "\n",
    "\n",
    "query = f\"\"\"\n",
    "    SELECT DISTINCT video_id\n",
    "    FROM `{PROJECT_ID}.{DATASET_ID}.{SOURCE_TABLE}`\n",
    "    WHERE video_id IS NOT NULL\n",
    "\"\"\"\n",
    "video_ids = [row[\"video_id\"] for row in client.query(query)]\n",
    "print(f\"Found {len(video_ids)} unique video IDs.\")\n",
    "\n",
    "\n",
    "def fetch_channel_info(batch_ids):\n",
    "    try:\n",
    "        response = youtube.videos().list(\n",
    "            part=\"snippet\",\n",
    "            id=\",\".join(batch_ids)\n",
    "        ).execute()\n",
    "        result = []\n",
    "        for item in response.get(\"items\", []):\n",
    "            result.append({\n",
    "                \"video_id\": item[\"id\"],\n",
    "                \"channel_id\": item[\"snippet\"][\"channelId\"],\n",
    "                \"channel_title\": item[\"snippet\"][\"channelTitle\"],\n",
    "            })\n",
    "        return result\n",
    "    except Exception as e:\n",
    "        print(f\"Error fetching batch: {e}\")\n",
    "        return []\n",
    "\n",
    "\n",
    "channel_info = []\n",
    "BATCH_SIZE = 50\n",
    "for i in tqdm(range(0, len(video_ids), BATCH_SIZE), desc=\"Fetching channel info\"):\n",
    "    batch = video_ids[i:i + BATCH_SIZE]\n",
    "    channel_info.extend(fetch_channel_info(batch))\n",
    "\n",
    "print(f\"Successfully enriched {len(channel_info)} videos.\")\n",
    "\n",
    "\n",
    "df = pd.DataFrame(channel_info)\n",
    "\n",
    "job_config = bigquery.LoadJobConfig(\n",
    "    write_disposition=\"WRITE_TRUNCATE\",\n",
    "    schema=[\n",
    "        bigquery.SchemaField(\"video_id\", \"STRING\"),\n",
    "        bigquery.SchemaField(\"channel_id\", \"STRING\"),\n",
    "        bigquery.SchemaField(\"channel_title\", \"STRING\"),\n",
    "    ]\n",
    ")\n",
    "\n",
    "table_ref = f\"{PROJECT_ID}.{TARGET_DATASET}.{DEST_TABLE}\"\n",
    "load_job = client.load_table_from_dataframe(df, table_ref, job_config=job_config)\n",
    "load_job.result()\n",
    "\n",
    "print(f\"Uploaded enriched data to BigQuery table `{DEST_TABLE}`.\")"
   ]
  },
  {
   "cell_type": "code",
   "execution_count": null,
   "id": "0c5fa181",
   "metadata": {},
   "outputs": [],
   "source": []
  }
 ],
 "metadata": {
  "kernelspec": {
   "display_name": "base",
   "language": "python",
   "name": "python3"
  },
  "language_info": {
   "codemirror_mode": {
    "name": "ipython",
    "version": 3
   },
   "file_extension": ".py",
   "mimetype": "text/x-python",
   "name": "python",
   "nbconvert_exporter": "python",
   "pygments_lexer": "ipython3",
   "version": "3.12.3"
  }
 },
 "nbformat": 4,
 "nbformat_minor": 5
}
